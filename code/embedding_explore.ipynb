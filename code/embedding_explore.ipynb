{
 "cells": [
  {
   "cell_type": "code",
   "execution_count": 1,
   "metadata": {
    "collapsed": true
   },
   "outputs": [],
   "source": [
    "%matplotlib inline\n",
    "import numpy as np"
   ]
  },
  {
   "cell_type": "code",
   "execution_count": 2,
   "metadata": {
    "collapsed": true
   },
   "outputs": [],
   "source": [
    "def top_k(C,c_id,cid2cname,topk=5):\n",
    "    norms = np.apply_along_axis(np.linalg.norm, 0, C)\n",
    "    C_norm = C / norms.reshape(-1,1)\n",
    "    c_vec=C_norm[c_id]\n",
    "    sim = np.dot(C_norm,c_vec)\n",
    "    nearest = (-sim).argsort()[1:topk+1]\n",
    "    results=[(cid2cname[nearest[k]],sim[nearest[k]]) for k in xrange(topk)]\n",
    "    return results\n",
    "\n",
    "def top_k_vec(C,vec,cid2cname,topk=5):\n",
    "    C_norm=normalize(C)\n",
    "    vec_norm=vec/np.linalg.norm(vec)\n",
    "    sim = np.dot(C_norm,vec_norm)\n",
    "    nearest = (-sim).argsort()[0:topk]\n",
    "    results=[(cid2cname[nearest[k]],sim[nearest[k]]) for k in xrange(topk)]\n",
    "    return results"
   ]
  },
  {
   "cell_type": "code",
   "execution_count": null,
   "metadata": {
    "collapsed": true
   },
   "outputs": [],
   "source": []
  }
 ],
 "metadata": {
  "kernelspec": {
   "display_name": "Python 2",
   "language": "python",
   "name": "python2"
  },
  "language_info": {
   "codemirror_mode": {
    "name": "ipython",
    "version": 2
   },
   "file_extension": ".py",
   "mimetype": "text/x-python",
   "name": "python",
   "nbconvert_exporter": "python",
   "pygments_lexer": "ipython2",
   "version": "2.7.11"
  }
 },
 "nbformat": 4,
 "nbformat_minor": 0
}
