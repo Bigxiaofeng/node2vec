{
 "cells": [
  {
   "cell_type": "code",
   "execution_count": 24,
   "metadata": {
    "collapsed": true
   },
   "outputs": [],
   "source": [
    "%matplotlib inline\n",
    "import numpy as np\n",
    "import json"
   ]
  },
  {
   "cell_type": "code",
   "execution_count": 33,
   "metadata": {
    "collapsed": true
   },
   "outputs": [],
   "source": [
    "#ref http://stackoverflow.com/questions/8955448/save-load-scipy-sparse-csr-matrix-in-portable-data-format\n",
    "def save_sparse_csr(filename,array):\n",
    "    np.savez(filename,data = array.data ,indices=array.indices,\n",
    "             indptr =array.indptr, shape=array.shape )\n",
    "\n",
    "def load_sparse_csr(filename):\n",
    "    loader = np.load(filename)\n",
    "    return csr_matrix((  loader['data'], loader['indices'], loader['indptr']),shape = loader['shape'])"
   ]
  },
  {
   "cell_type": "code",
   "execution_count": 34,
   "metadata": {
    "collapsed": false
   },
   "outputs": [],
   "source": [
    "co_author_matrix=load_sparse_csr(\"../data/co-author-matrix.npz\")\n",
    "with open('../data/co-author-index.json', 'r') as f:\n",
    "    aid2aname=json.load(f)\n",
    "aid2aname=dict((int(k), v) for k, v in aid2aname.iteritems())"
   ]
  },
  {
   "cell_type": "code",
   "execution_count": 37,
   "metadata": {
    "collapsed": false
   },
   "outputs": [],
   "source": [
    "with open('../data/co-author-index.json', 'r') as f:\n",
    "    aid2aname=json.load(f)\n",
    "aid2aname=dict((int(k), v) for k, v in aid2aname.iteritems())"
   ]
  },
  {
   "cell_type": "code",
   "execution_count": 38,
   "metadata": {
    "collapsed": true
   },
   "outputs": [],
   "source": [
    "def top_k(C,c_id,cid2cname,topk=5):\n",
    "    norms = np.apply_along_axis(np.linalg.norm, 0, C)\n",
    "    C_norm = C / norms.reshape(1,-1)\n",
    "    c_vec=C_norm[c_id]\n",
    "    sim = np.dot(C_norm,c_vec)\n",
    "    nearest = (-sim).argsort()[1:topk+1]\n",
    "    results=[(cid2cname[nearest[k]],sim[nearest[k]]) for k in xrange(topk)]\n",
    "    return results\n",
    "\n",
    "def top_k_vec(C,vec,cid2cname,topk=5):\n",
    "    C_norm=normalize(C)\n",
    "    vec_norm=vec/np.linalg.norm(vec)\n",
    "    sim = np.dot(C_norm,vec_norm)\n",
    "    nearest = (-sim).argsort()[0:topk]\n",
    "    results=[(cid2cname[nearest[k]],sim[nearest[k]]) for k in xrange(topk)]\n",
    "    return results"
   ]
  },
  {
   "cell_type": "code",
   "execution_count": 50,
   "metadata": {
    "collapsed": true
   },
   "outputs": [],
   "source": [
    "np_node_embeddings=np.load('../results/node_embeddings.npz')['arr_0']"
   ]
  },
  {
   "cell_type": "code",
   "execution_count": 52,
   "metadata": {
    "collapsed": false
   },
   "outputs": [
    {
     "data": {
      "text/plain": [
       "[(u'rohan puttagunta', 0.0031667058),\n",
       " (u'caroline suen', 0.0030133841),\n",
       " (u'pararth shah', 0.0028435378),\n",
       " (u'nilesh dalvi', 0.0028338402),\n",
       " (u'ashton anderson', 0.0028116952)]"
      ]
     },
     "execution_count": 52,
     "metadata": {},
     "output_type": "execute_result"
    }
   ],
   "source": [
    "top_k(np_node_embeddings,10937,aid2aname)"
   ]
  },
  {
   "cell_type": "code",
   "execution_count": 51,
   "metadata": {
    "collapsed": false
   },
   "outputs": [
    {
     "data": {
      "text/plain": [
       "[(u'wilhelm hasselbring', 0.0027626124),\n",
       " (u'gunter saake', 0.0026860675),\n",
       " (u'kaiuwe sattler', 0.0026787217),\n",
       " (u'stefan conrad', 0.0026114527),\n",
       " (u'm strassler', 0.0025326342)]"
      ]
     },
     "execution_count": 51,
     "metadata": {},
     "output_type": "execute_result"
    }
   ],
   "source": [
    "top_k(np_node_embeddings,71929,aid2aname)"
   ]
  },
  {
   "cell_type": "code",
   "execution_count": null,
   "metadata": {
    "collapsed": true
   },
   "outputs": [],
   "source": []
  },
  {
   "cell_type": "code",
   "execution_count": null,
   "metadata": {
    "collapsed": true
   },
   "outputs": [],
   "source": [
    "#If you want to restore from ckpt files, this might be helpful....\n",
    "\n",
    "\n",
    "# from gensim import corpora\n",
    "# import numpy as np\n",
    "# import unicodecsv as csv\n",
    "# import tensorflow as tf\n",
    "# import math\n",
    "# import os,sys\n",
    "# import random\n",
    "# from scipy.sparse import csr_matrix\n",
    "# from tqdm import tqdm\n",
    "# import json\n",
    "\n",
    "# #Computational Graph Definition\n",
    "# tf.reset_default_graph()#remove this if not ipython notebook\n",
    "\n",
    "# num_nodes=adj_mat_csr_sparse.shape[0]\n",
    "# context_size=16\n",
    "# batch_size = None\n",
    "# embedding_size = 200 # Dimension of the embedding vector.\n",
    "# num_sampled = 64 # Number of negative examples to sample.\n",
    "\n",
    "# global_step = tf.Variable(0, name='global_step', trainable=False)\n",
    "\n",
    "# # Parameters to learn\n",
    "# node_embeddings = tf.Variable(tf.random_uniform([num_nodes, embedding_size], -1.0, 1.0))\n",
    "\n",
    "# #Fixedones\n",
    "# biases=tf.zeros([num_nodes])\n",
    "\n",
    "# # Input data and re-orgenize size.\n",
    "# with tf.name_scope(\"context_node\") as scope:\n",
    "#     #context nodes to each input node in the batch (e.g [[1,2],[4,6],[5,7]] where batch_size = 3,context_size=3)\n",
    "#     train_context_node= tf.placeholder(tf.int32, shape=[batch_size,context_size],name=\"context_node\")\n",
    "#     #orgenize prediction labels (skip-gram model predicts context nodes (i.e labels) given a input node)\n",
    "#     #i.e make [[1,2,4,6,5,7]] given context above. The redundant dimention is just for restriction on tensorflow API.\n",
    "#     train_context_node_flat=tf.reshape(train_context_node,[-1,1])\n",
    "# with tf.name_scope(\"input_node\") as scope:\n",
    "#     #batch input node to the network(e.g [2,1,3] where batch_size = 3)\n",
    "#     train_input_node= tf.placeholder(tf.int32, shape=[batch_size],name=\"input_node\")\n",
    "#     #orgenize input as flat. i.e we want to make [2,2,2,1,1,1,3,3,3] given the  input nodes above\n",
    "#     input_ones=tf.ones_like(train_context_node)\n",
    "#     train_input_node_flat=tf.reshape(tf.mul(input_ones,tf.reshape(train_input_node,[-1,1])),[-1])\n",
    "\n",
    "# # Model.\n",
    "# with tf.name_scope(\"loss\") as scope:\n",
    "#     # Look up embeddings for words.\n",
    "#     node_embed = tf.nn.embedding_lookup(node_embeddings, train_input_node_flat)\n",
    "#     # Compute the softmax loss, using a sample of the negative labels each time.\n",
    "#     loss_node2vec = tf.reduce_mean(tf.nn.sampled_softmax_loss(node_embeddings,biases,node_embed,train_context_node_flat, num_sampled, num_nodes))\n",
    "#     loss_node2vec_summary = tf.scalar_summary(\"loss_node2vec\", loss_node2vec)\n",
    "\n",
    "# # Initializing the variables\n",
    "# init = tf.initialize_all_variables()\n",
    "\n",
    "# # Add ops to save and restore all the variables.\n",
    "# saver = tf.train.Saver(max_to_keep=20)\n",
    "\n",
    "# merged = tf.merge_all_summaries()\n",
    "\n",
    "# with tf.Session() as sess:\n",
    "#     # Restore variables from disk.\n",
    "#     log_dir=\"../log1/\"\n",
    "#     global_step=30001\n",
    "#     model_path=log_dir+\"model.ckpt-%d\"%global_step\n",
    "#     saver.restore(sess, model_path)\n",
    "#     print(\"Model restored.\")\n",
    "#     node_embeddings_=sess.run(node_embeddings)"
   ]
  }
 ],
 "metadata": {
  "kernelspec": {
   "display_name": "Python 2",
   "language": "python",
   "name": "python2"
  },
  "language_info": {
   "codemirror_mode": {
    "name": "ipython",
    "version": 2
   },
   "file_extension": ".py",
   "mimetype": "text/x-python",
   "name": "python",
   "nbconvert_exporter": "python",
   "pygments_lexer": "ipython2",
   "version": "2.7.11"
  }
 },
 "nbformat": 4,
 "nbformat_minor": 0
}
